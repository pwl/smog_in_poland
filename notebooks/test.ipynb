{
 "cells": [
  {
   "cell_type": "code",
   "execution_count": null,
   "metadata": {},
   "outputs": [],
   "source": [
    "import pandas as pd\n",
    "import cufflinks"
   ]
  },
  {
   "cell_type": "code",
   "execution_count": null,
   "metadata": {},
   "outputs": [],
   "source": [
    "data_h5 = \"../data/data.h5\""
   ]
  },
  {
   "cell_type": "code",
   "execution_count": null,
   "metadata": {},
   "outputs": [],
   "source": [
    "title = \"24g/NO2\"\n",
    "all_data = pd.read_hdf(data_h5, title)\n",
    "metadata = pd.read_hdf(data_h5, \"metadata\")"
   ]
  },
  {
   "cell_type": "code",
   "execution_count": null,
   "metadata": {},
   "outputs": [],
   "source": [
    "cols = all_data.columns.str.startswith(\"\")\n",
    "all_data.iloc[:,cols].iplot(yTitle=\"μg/m3\", title=title)"
   ]
  },
  {
   "cell_type": "code",
   "execution_count": null,
   "metadata": {},
   "outputs": [],
   "source": [
    "all_data.iloc[:,cols].groupby(pd.Grouper(freq=\"M\")).mean().iplot(yTitle=\"μg/m3\", title=f\"{title} averaged out over each month.\")"
   ]
  },
  {
   "cell_type": "markdown",
   "metadata": {},
   "source": [
    "### Map of stations"
   ]
  },
  {
   "cell_type": "code",
   "execution_count": null,
   "metadata": {},
   "outputs": [],
   "source": [
    "from bokeh.io import show\n",
    "from bokeh.plotting import figure\n",
    "from bokeh.tile_providers import get_provider\n",
    "from bokeh.models import HoverTool, PanTool, WheelZoomTool\n",
    "from bokeh.models import ColumnDataSource\n",
    "\n",
    "E_minmax = metadata['web_mercator_E'].min(), metadata['web_mercator_E'].max()\n",
    "N_minmax = metadata['web_mercator_N'].min(), metadata['web_mercator_N'].max()\n",
    "\n",
    "source = ColumnDataSource(metadata)\n",
    "\n",
    "hover = HoverTool(\n",
    "        tooltips=[\n",
    "            (\"Stacja\", \"@{Nazwa stacji}\")\n",
    "        ]\n",
    "    )\n",
    "\n",
    "fig = figure(\n",
    "    tools=[hover, PanTool(), WheelZoomTool()],\n",
    "    x_range=E_minmax,\n",
    "    y_range=N_minmax,\n",
    "    x_axis_type=\"mercator\",\n",
    "    y_axis_type=\"mercator\")\n",
    "fig.add_tile(get_provider('CARTODBPOSITRON_RETINA'))\n",
    "fig.circle(\n",
    "    x='web_mercator_E',\n",
    "    y='web_mercator_N',\n",
    "    source=ColumnDataSource(metadata),\n",
    "    line_color='grey',\n",
    "    fill_color='yellow')\n",
    "\n",
    "show(fig)"
   ]
  }
 ],
 "metadata": {
  "kernelspec": {
   "display_name": "Python 3",
   "language": "python",
   "name": "python3"
  },
  "language_info": {
   "codemirror_mode": {
    "name": "ipython",
    "version": 3
   },
   "file_extension": ".py",
   "mimetype": "text/x-python",
   "name": "python",
   "nbconvert_exporter": "python",
   "pygments_lexer": "ipython3",
   "version": "3.6.7"
  }
 },
 "nbformat": 4,
 "nbformat_minor": 2
}
