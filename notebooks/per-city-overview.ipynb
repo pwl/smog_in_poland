{
 "cells": [
  {
   "cell_type": "code",
   "execution_count": null,
   "metadata": {},
   "outputs": [],
   "source": [
    "import pandas as pd\n",
    "import cufflinks\n",
    "cufflinks.go_offline()"
   ]
  },
  {
   "cell_type": "code",
   "execution_count": null,
   "metadata": {},
   "outputs": [],
   "source": [
    "data_h5 = \"../data/data.h5\""
   ]
  },
  {
   "cell_type": "code",
   "execution_count": null,
   "metadata": {},
   "outputs": [],
   "source": [
    "indicators = [\"PM10\", \"PM2.5\"]\n",
    "titles = {i: f\"24g/{i}\" for i in indicators}\n",
    "unsafe_levels = {\"PM10\": 50, \"PM2.5\": 25}\n",
    "all_data = {k: pd.read_hdf(data_h5, val) for k, val in titles.items()}\n",
    "metadata = pd.read_hdf(data_h5, \"metadata\")"
   ]
  },
  {
   "cell_type": "code",
   "execution_count": null,
   "metadata": {},
   "outputs": [],
   "source": [
    "cities = pd.DataFrame(metadata.groupby('Miejscowość')['Kod stacji'].apply(list))\n",
    "# select the cities with at least 3 stations\n",
    "large_cities = cities[cities['Kod stacji'].map(len) >= 3]"
   ]
  },
  {
   "cell_type": "code",
   "execution_count": null,
   "metadata": {},
   "outputs": [],
   "source": [
    "def get_means(all_data, city, codes, freq):\n",
    "    if set(codes).intersection(set(all_data.columns)):\n",
    "        return all_data.loc[:, codes].mean(1)\n",
    "    else:\n",
    "        return pd.Series()"
   ]
  },
  {
   "cell_type": "code",
   "execution_count": null,
   "metadata": {},
   "outputs": [],
   "source": [
    "data_averaged = {\n",
    "    i: pd.DataFrame({city: get_means(all_data[i], city, codes, 'W') for city, codes in list(large_cities['Kod stacji'].items())}).dropna([0,1],'all')\n",
    "    for i in indicators}"
   ]
  },
  {
   "cell_type": "code",
   "execution_count": null,
   "metadata": {},
   "outputs": [],
   "source": [
    "def plot_means(df, i):\n",
    "    (df\n",
    "     .groupby(pd.Grouper(freq='M'))\n",
    "     .mean()\n",
    "     .pipe(lambda df: df.loc[:,df.isnull().mean()<0.8])\n",
    "     .pipe(lambda df: df.T.assign(mean=df.mean()).sort_values('mean').drop('mean',axis=1).T)\n",
    "     .iplot(kind='heatmap', colorscale='reds', dimensions=(1000,1700), title=f'{i} [μg/m3] averaged over a month')\n",
    "    )\n",
    "    \n",
    "def plot_days_unsafe(df, i, unsafe_level):\n",
    "    (df\n",
    "     .apply(lambda x: x>unsafe_level).astype(float)\n",
    "     .groupby(pd.Grouper(freq='M'))\n",
    "     .sum()\n",
    "     .pipe(lambda df: df.loc[:,df.isnull().mean()<0.8])\n",
    "     .pipe(lambda df: df.T.assign(mean=df.mean()).sort_values('mean').drop('mean',axis=1).T)\n",
    "     .iplot(kind='heatmap', colorscale='reds', dimensions=(1000,1700), title=f'Days per month with high levels of {i} (>{unsafe_level} μg/m3/day)')\n",
    ")"
   ]
  },
  {
   "cell_type": "code",
   "execution_count": null,
   "metadata": {},
   "outputs": [],
   "source": [
    "for i, df in data_averaged.items():\n",
    "    plot_means(df, i)\n",
    "    plot_days_unsafe(df,i,unsafe_levels[i])"
   ]
  }
 ],
 "metadata": {
  "kernelspec": {
   "display_name": "Python 3",
   "language": "python",
   "name": "python3"
  },
  "language_info": {
   "codemirror_mode": {
    "name": "ipython",
    "version": 3
   },
   "file_extension": ".py",
   "mimetype": "text/x-python",
   "name": "python",
   "nbconvert_exporter": "python",
   "pygments_lexer": "ipython3",
   "version": "3.6.7"
  }
 },
 "nbformat": 4,
 "nbformat_minor": 2
}
