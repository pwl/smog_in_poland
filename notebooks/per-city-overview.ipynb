{
 "cells": [
  {
   "cell_type": "code",
   "execution_count": null,
   "metadata": {},
   "outputs": [],
   "source": [
    "import pandas as pd\n",
    "import cufflinks\n",
    "cufflinks.go_offline()"
   ]
  },
  {
   "cell_type": "code",
   "execution_count": null,
   "metadata": {},
   "outputs": [],
   "source": [
    "data_h5 = \"../data/data.h5\""
   ]
  },
  {
   "cell_type": "code",
   "execution_count": null,
   "metadata": {},
   "outputs": [],
   "source": [
    "title = \"24g/PM10\"\n",
    "all_data = pd.read_hdf(data_h5, title)\n",
    "metadata = pd.read_hdf(data_h5, \"metadata\")"
   ]
  },
  {
   "cell_type": "code",
   "execution_count": null,
   "metadata": {},
   "outputs": [],
   "source": [
    "cities = pd.DataFrame(metadata.groupby('Miejscowość')['Kod stacji'].apply(list))\n",
    "# select the cities with at least 3 stations\n",
    "large_cities = cities[cities['Kod stacji'].map(len) >= 3]"
   ]
  },
  {
   "cell_type": "code",
   "execution_count": null,
   "metadata": {},
   "outputs": [],
   "source": [
    "def get_means(all_data, city, codes, freq):\n",
    "    if set(codes).intersection(set(all_data.columns)):\n",
    "        return all_data.loc[:, codes].mean(1)\n",
    "    else:\n",
    "        return pd.Series(name=city)"
   ]
  },
  {
   "cell_type": "code",
   "execution_count": null,
   "metadata": {},
   "outputs": [],
   "source": [
    "res = pd.DataFrame({city: get_means(all_data, city, codes, 'W') for city, codes in list(large_cities['Kod stacji'].items())}).dropna([0,1],'all')"
   ]
  },
  {
   "cell_type": "code",
   "execution_count": null,
   "metadata": {},
   "outputs": [],
   "source": [
    "(res\n",
    " .groupby(pd.Grouper(freq='M'))\n",
    " .mean()\n",
    " .pipe(lambda df: df.loc[:,df.isnull().mean()<0.8])\n",
    " .pipe(lambda df: df.T.assign(mean=df.mean()).sort_values('mean').drop('mean',axis=1).T)\n",
    " .iplot(kind='heatmap', colorscale='reds', dimensions=(1000,1700))\n",
    ")"
   ]
  },
  {
   "cell_type": "code",
   "execution_count": null,
   "metadata": {},
   "outputs": [],
   "source": [
    "(res\n",
    " .apply(lambda x: x>35).astype(float)\n",
    " .groupby(pd.Grouper(freq='M'))\n",
    " .sum()\n",
    " .pipe(lambda df: df.loc[:,df.isnull().mean()<0.8])\n",
    " .pipe(lambda df: df.T.assign(mean=df.mean()).sort_values('mean').drop('mean',axis=1).T)\n",
    " .iplot(kind='heatmap', colorscale='reds', dimensions=(1000,1700))\n",
    ")"
   ]
  }
 ],
 "metadata": {
  "kernelspec": {
   "display_name": "Python 3",
   "language": "python",
   "name": "python3"
  },
  "language_info": {
   "codemirror_mode": {
    "name": "ipython",
    "version": 3
   },
   "file_extension": ".py",
   "mimetype": "text/x-python",
   "name": "python",
   "nbconvert_exporter": "python",
   "pygments_lexer": "ipython3",
   "version": "3.6.7"
  }
 },
 "nbformat": 4,
 "nbformat_minor": 2
}
