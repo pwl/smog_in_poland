{
 "cells": [
  {
   "cell_type": "code",
   "execution_count": null,
   "metadata": {},
   "outputs": [],
   "source": [
    "import numpy as np\n",
    "import pandas as pd\n",
    "import zipfile\n",
    "import os\n",
    "import urllib.request\n",
    "from tqdm import tqdm\n",
    "from pathlib import Path\n",
    "import cufflinks\n",
    "cufflinks.go_offline()"
   ]
  },
  {
   "cell_type": "code",
   "execution_count": null,
   "metadata": {},
   "outputs": [],
   "source": [
    "summary = pd.read_excel(\"data/Statystyki_2000-2018_wer20180828.xlsx\", sheet_name=\"PM2,5\")\n",
    "summary = summary[summary['Czas uśredniania'] == '1g']"
   ]
  },
  {
   "cell_type": "code",
   "execution_count": null,
   "metadata": {},
   "outputs": [],
   "source": [
    "summary.columns"
   ]
  },
  {
   "cell_type": "code",
   "execution_count": null,
   "metadata": {},
   "outputs": [],
   "source": [
    "stations = summary['Kod stacji'][summary['Kod stacji'].str.startswith(\"\")].unique()"
   ]
  },
  {
   "cell_type": "code",
   "execution_count": null,
   "metadata": {},
   "outputs": [],
   "source": [
    "val_key = \"Średnia\"\n",
    "summary[summary['Kod stacji'].isin(stations)].pivot(index=\"Rok\", columns=\"Kod stacji\", values=val_key).iplot()"
   ]
  },
  {
   "cell_type": "code",
   "execution_count": null,
   "metadata": {},
   "outputs": [],
   "source": [
    "val_key = \"Maks\"\n",
    "summary[summary['Kod stacji'].isin(stations)].pivot(index=\"Rok\", columns=\"Kod stacji\", values=val_key).iplot()"
   ]
  },
  {
   "cell_type": "markdown",
   "metadata": {},
   "source": [
    "Specify Urls with the zipped sensor data files"
   ]
  },
  {
   "cell_type": "code",
   "execution_count": null,
   "metadata": {},
   "outputs": [],
   "source": [
    "urls={\n",
    "    '2000': 'http://powietrze.gios.gov.pl/pjp/archives/downloadFile/223',\n",
    "    '2001': 'http://powietrze.gios.gov.pl/pjp/archives/downloadFile/224',\n",
    "    '2002': 'http://powietrze.gios.gov.pl/pjp/archives/downloadFile/225',\n",
    "    '2003': 'http://powietrze.gios.gov.pl/pjp/archives/downloadFile/226',\n",
    "    '2004': 'http://powietrze.gios.gov.pl/pjp/archives/downloadFile/202',\n",
    "    '2005': 'http://powietrze.gios.gov.pl/pjp/archives/downloadFile/203',\n",
    "    '2006': 'http://powietrze.gios.gov.pl/pjp/archives/downloadFile/227',\n",
    "    '2007': 'http://powietrze.gios.gov.pl/pjp/archives/downloadFile/228',\n",
    "    '2008': 'http://powietrze.gios.gov.pl/pjp/archives/downloadFile/229',\n",
    "    '2009': 'http://powietrze.gios.gov.pl/pjp/archives/downloadFile/230',\n",
    "    '2010': 'http://powietrze.gios.gov.pl/pjp/archives/downloadFile/231',\n",
    "    '2011': 'http://powietrze.gios.gov.pl/pjp/archives/downloadFile/232',\n",
    "    '2012': 'http://powietrze.gios.gov.pl/pjp/archives/downloadFile/233',\n",
    "    '2013': 'http://powietrze.gios.gov.pl/pjp/archives/downloadFile/234',\n",
    "    '2014': 'http://powietrze.gios.gov.pl/pjp/archives/downloadFile/235',\n",
    "    '2015': 'http://powietrze.gios.gov.pl/pjp/archives/downloadFile/236',\n",
    "    '2016': 'http://powietrze.gios.gov.pl/pjp/archives/downloadFile/242',\n",
    "    '2017': 'http://powietrze.gios.gov.pl/pjp/archives/downloadFile/262',\n",
    "}\n",
    "zip_dir = Path('./data/zip')\n",
    "extracted_dir = Path(\"data/extracted/\")"
   ]
  },
  {
   "cell_type": "markdown",
   "metadata": {},
   "source": [
    "Download the files"
   ]
  },
  {
   "cell_type": "code",
   "execution_count": null,
   "metadata": {},
   "outputs": [],
   "source": [
    "for url in tqdm(urls.values()):\n",
    "    name = zip_dir/url.split('/')[-1]\n",
    "    urllib.request.urlretrieve(url, name)\n",
    "    zipfile.ZipFile(name, 'r').extractall(extracted_dir)"
   ]
  },
  {
   "cell_type": "markdown",
   "metadata": {},
   "source": [
    "Download the metadata file"
   ]
  },
  {
   "cell_type": "code",
   "execution_count": null,
   "metadata": {},
   "outputs": [],
   "source": [
    "def merc_from_arrays(ϕ, λ):\n",
    "    ϕ = ϕ / (180/np.pi)\n",
    "    λ = λ / (180/np.pi)\n",
    "    r_major = 6378137.000\n",
    "    x = r_major * λ\n",
    "    y = r_major * np.log(np.tan(np.pi/4+ϕ/2))\n",
    "    return (x,y)\n",
    "\n",
    "def add_web_mercator(metadata):\n",
    "    E, N = merc_from_arrays(metadata['WGS84 φ N'], metadata['WGS84 λ E'])\n",
    "    metadata['web_mercator_E'] = E\n",
    "    metadata['web_mercator_N'] = N\n",
    "\n",
    "metadata_url = \"http://powietrze.gios.gov.pl/pjp/archives/downloadFile/265\"\n",
    "metadata_file = extracted_dir / \"metadata.xlsl\"\n",
    "urllib.request.urlretrieve(metadata_url, metadata_file)\n",
    "metadata = pd.read_excel(metadata_file).drop(['Nr'], axis=1)\n",
    "\n",
    "# clean up the -999.0 values for latitude and longitude\n",
    "for col in ['WGS84 φ N','WGS84 λ E']:\n",
    "    metadata.loc[metadata[col] < -360, col] = np.nan\n",
    "\n",
    "add_web_mercator(metadata)"
   ]
  },
  {
   "cell_type": "code",
   "execution_count": null,
   "metadata": {},
   "outputs": [],
   "source": [
    "import datetime\n",
    "    \n",
    "def detect_kod_stacji(df):\n",
    "    for idx, row in df.reset_index(drop=True).head(10).iterrows():\n",
    "        try:\n",
    "            pd.to_numeric(row)\n",
    "        except:\n",
    "            if row.str.contains(\"^[A-Z][a-z]\").mean()>0.9:\n",
    "                return idx\n",
    "    raise Exception(f\"Could not find Kod stacji, {df.head(10)}\")\n",
    "    \n",
    "def detect_values(df):\n",
    "    return df.index.map(lambda x: isinstance(x,datetime.datetime))\n",
    "\n",
    "def format_table(df):\n",
    "    kod_stacji_idx = detect_kod_stacji(df)\n",
    "    values_idx = detect_values(df)\n",
    "    df_new = df[values_idx].copy()\n",
    "    df_new.index = pd.to_datetime(df_new.index)\n",
    "    df_new.index.names=[\"Date\"]\n",
    "    df_new.columns = list(df.iloc[kod_stacji_idx])\n",
    "    return df_new\n",
    "\n",
    "def convert_to_kod_stacji(df, metadata):\n",
    "    if not set(df.columns).difference(metadata['Kod stacji']):\n",
    "        return\n",
    "    \n",
    "    df.columns = list(pd.DataFrame(index=df.columns)\n",
    "     .merge(\n",
    "         metadata[['Kod stacji', 'Stary Kod stacji']],\n",
    "         how='left',\n",
    "         left_index=True,\n",
    "         right_on=\"Stary Kod stacji\")\n",
    "     .loc[:,'Kod stacji']\n",
    "    )\n",
    "    \n",
    "def get_file_name(year, measure, interval=24):\n",
    "    return \"_\".join([str(year), measure, str(interval)+\"g\"+\".xlsx\"])\n",
    "\n",
    "def convert_to_number(x):\n",
    "    if type(x) is str:\n",
    "        return float(x.replace(\",\",\".\"))\n",
    "    else:\n",
    "        return x\n",
    "\n",
    "def to_dataframe(xls, metadata):\n",
    "    \n",
    "    if not xls.exists():\n",
    "        xls = Path(str(xls).replace(\"PM2.5\", \"PM25\"))\n",
    "    \n",
    "    if not xls.exists():\n",
    "        return pd.DataFrame()\n",
    "    \n",
    "    df = pd.read_excel(xls, header=None, index_col=0)\n",
    "    df = format_table(df)\n",
    "    convert_to_kod_stacji(df, metadata)\n",
    "    df = df.applymap(convert_to_number)\n",
    "    df = df.loc[:,~df.columns.duplicated()]\n",
    "    df = df.astype(np.float32)\n",
    "    df.drop(df.columns[df.columns.isnull()], axis=1, inplace=True)\n",
    "    return df"
   ]
  },
  {
   "cell_type": "code",
   "execution_count": null,
   "metadata": {},
   "outputs": [],
   "source": [
    "for indicator in tqdm([\"PM2.5\", \"PM10\", \"NO2\", \"SO2\"]):\n",
    "    lst = {year : to_dataframe(extracted_dir / get_file_name(year, indicator, interval=24), metadata)\n",
    "               for year in urls.keys()}\n",
    "    all_data = pd.concat(lst.values(), axis=0, sort=False)\n",
    "    all_data.to_hdf('data/data.h5', f\"24g/{indicator}\")\n",
    "metadata.to_hdf('data/data.h5', \"metadata\")"
   ]
  },
  {
   "cell_type": "code",
   "execution_count": null,
   "metadata": {},
   "outputs": [],
   "source": [
    "all_data = pd.read_hdf('data/data.h5', \"24g/PM10\")"
   ]
  },
  {
   "cell_type": "code",
   "execution_count": null,
   "metadata": {},
   "outputs": [],
   "source": [
    "((all_data>50).groupby(pd.Grouper(freq=\"Y\")).sum()>35).sum(0).sort_values().head(10)"
   ]
  },
  {
   "cell_type": "code",
   "execution_count": null,
   "metadata": {},
   "outputs": [],
   "source": [
    "cols = all_data.columns.str.startswith(\"MpKrak\")\n",
    "all_data.rolling(30).mean().iloc[:,cols].iplot()"
   ]
  },
  {
   "cell_type": "code",
   "execution_count": null,
   "metadata": {},
   "outputs": [],
   "source": [
    "all_data.iloc[:,cols].groupby(pd.Grouper(freq=\"M\")).median().iplot()"
   ]
  },
  {
   "cell_type": "code",
   "execution_count": null,
   "metadata": {},
   "outputs": [],
   "source": [
    "import pandas_bokeh\n",
    "pandas_bokeh.output_notebook()"
   ]
  },
  {
   "cell_type": "code",
   "execution_count": null,
   "metadata": {},
   "outputs": [],
   "source": [
    "E_minmax = metadata['web_mercator_E'].min(), metadata['web_mercator_E'].max()\n",
    "N_minmax = metadata['web_mercator_N'].min(), metadata['web_mercator_N'].max()"
   ]
  },
  {
   "cell_type": "code",
   "execution_count": null,
   "metadata": {},
   "outputs": [],
   "source": [
    "summary_stats.index"
   ]
  },
  {
   "cell_type": "code",
   "execution_count": null,
   "metadata": {},
   "outputs": [],
   "source": [
    "summary_stats = all_data.groupby(pd.Grouper(freq=\"M\")).mean()\n",
    "dates = summary_stats.index #.strftime('%Y-%M').values\n",
    "data = {}\n",
    "for date in dates:\n",
    "    key = date.strftime(\"%Y-%M\")\n",
    "    df = metadata.copy().set_index('Kod stacji')\n",
    "    df['summary'] = summary_stats.loc[dates[0]].T\n",
    "    data[key] = ColumnDataSource(df)"
   ]
  },
  {
   "cell_type": "code",
   "execution_count": null,
   "metadata": {},
   "outputs": [],
   "source": [
    "from bokeh.layouts import row, column, grid\n",
    "from bokeh.io import output_file, show\n",
    "from bokeh.plotting import figure\n",
    "from bokeh.tile_providers import get_provider\n",
    "from bokeh.models import HoverTool, PanTool, WheelZoomTool, DateRangeSlider\n",
    "from bokeh.models import ColumnDataSource\n",
    "\n",
    "source = ColumnDataSource(metadata)\n",
    "\n",
    "# def slider_update(attrname, old, new):\n",
    "#     year = slider.value\n",
    "#     label.text = str(year)\n",
    "#     source.data = data[year]\n",
    "\n",
    "# slider = DateRangeSlider(start=dates[0].date(), end=dates[-1].date(), title=\"Year-Month\")\n",
    "# slider.on_change('value', slider_update)\n",
    "\n",
    "hover = HoverTool(\n",
    "        tooltips=[\n",
    "            (\"Stacja\", \"@{Nazwa stacji}\")\n",
    "        ]\n",
    "    )\n",
    "\n",
    "fig = figure(\n",
    "    tools=[hover, PanTool(), WheelZoomTool()],\n",
    "    x_range=E_minmax,\n",
    "    y_range=N_minmax,\n",
    "    x_axis_type=\"mercator\",\n",
    "    y_axis_type=\"mercator\")\n",
    "fig.add_tile(get_provider('CARTODBPOSITRON_RETINA'))\n",
    "fig.circle(\n",
    "    x='web_mercator_E',\n",
    "    y='web_mercator_N',\n",
    "    source=list(data.values())[0],\n",
    "    line_color='grey',\n",
    "    fill_color='yellow')\n",
    "\n",
    "show(fig)\n",
    "\n",
    "# # Set up layouts and add to document\n",
    "# inputs = column(slider)\n",
    "\n",
    "# show(row(inputs, fig, width=800))"
   ]
  }
 ],
 "metadata": {
  "kernelspec": {
   "display_name": "Python 3",
   "language": "python",
   "name": "python3"
  },
  "language_info": {
   "codemirror_mode": {
    "name": "ipython",
    "version": 3
   },
   "file_extension": ".py",
   "mimetype": "text/x-python",
   "name": "python",
   "nbconvert_exporter": "python",
   "pygments_lexer": "ipython3",
   "version": "3.6.6"
  }
 },
 "nbformat": 4,
 "nbformat_minor": 2
}
