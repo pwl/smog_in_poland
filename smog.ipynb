{
 "cells": [
  {
   "cell_type": "markdown",
   "metadata": {},
   "source": [
    "Prepare the data, you only need to run this line once"
   ]
  },
  {
   "cell_type": "code",
   "execution_count": null,
   "metadata": {},
   "outputs": [],
   "source": [
    "from data import prepare_hdf5\n",
    "prepare_hdf5()"
   ]
  },
  {
   "cell_type": "code",
   "execution_count": null,
   "metadata": {},
   "outputs": [],
   "source": [
    "import pandas as pd\n",
    "import cufflinks"
   ]
  },
  {
   "cell_type": "code",
   "execution_count": null,
   "metadata": {},
   "outputs": [],
   "source": [
    "all_data = pd.read_hdf('data/data.h5', \"24g/PM10\")\n",
    "metadata = pd.read_hdf('data/data.h5', \"metadata\")"
   ]
  },
  {
   "cell_type": "code",
   "execution_count": null,
   "metadata": {},
   "outputs": [],
   "source": [
    "cols = all_data.columns.str.startswith(\"\")\n",
    "all_data.rolling(30).mean().iloc[:,cols].iplot()"
   ]
  },
  {
   "cell_type": "code",
   "execution_count": null,
   "metadata": {},
   "outputs": [],
   "source": [
    "all_data.iloc[:,cols].groupby(pd.Grouper(freq=\"M\")).median().iplot()"
   ]
  },
  {
   "cell_type": "code",
   "execution_count": null,
   "metadata": {},
   "outputs": [],
   "source": [
    "import pandas_bokeh\n",
    "pandas_bokeh.output_notebook()"
   ]
  },
  {
   "cell_type": "code",
   "execution_count": null,
   "metadata": {},
   "outputs": [],
   "source": [
    "E_minmax = metadata['web_mercator_E'].min(), metadata['web_mercator_E'].max()\n",
    "N_minmax = metadata['web_mercator_N'].min(), metadata['web_mercator_N'].max()"
   ]
  },
  {
   "cell_type": "code",
   "execution_count": null,
   "metadata": {},
   "outputs": [],
   "source": [
    "\n",
    "summary_stats = all_data.groupby(pd.Grouper(freq=\"M\")).mean()\n",
    "dates = summary_stats.index #.strftime('%Y-%M').values\n",
    "data = {}\n",
    "for date in dates:\n",
    "    key = date.strftime(\"%Y-%M\")\n",
    "    df = metadata.copy().set_index('Kod stacji')\n",
    "    df['summary'] = summary_stats.loc[dates[0]].T\n",
    "    data[key] = ColumnDataSource(df)"
   ]
  },
  {
   "cell_type": "code",
   "execution_count": null,
   "metadata": {},
   "outputs": [],
   "source": [
    "from bokeh.layouts import row, column, grid\n",
    "from bokeh.io import output_file, show\n",
    "from bokeh.plotting import figure\n",
    "from bokeh.tile_providers import get_provider\n",
    "from bokeh.models import HoverTool, PanTool, WheelZoomTool, DateRangeSlider\n",
    "from bokeh.models import ColumnDataSource\n",
    "\n",
    "source = ColumnDataSource(metadata)\n",
    "\n",
    "# def slider_update(attrname, old, new):\n",
    "#     year = slider.value\n",
    "#     label.text = str(year)\n",
    "#     source.data = data[year]\n",
    "\n",
    "# slider = DateRangeSlider(start=dates[0].date(), end=dates[-1].date(), title=\"Year-Month\")\n",
    "# slider.on_change('value', slider_update)\n",
    "\n",
    "hover = HoverTool(\n",
    "        tooltips=[\n",
    "            (\"Stacja\", \"@{Nazwa stacji}\")\n",
    "        ]\n",
    "    )\n",
    "\n",
    "fig = figure(\n",
    "    tools=[hover, PanTool(), WheelZoomTool()],\n",
    "    x_range=E_minmax,\n",
    "    y_range=N_minmax,\n",
    "    x_axis_type=\"mercator\",\n",
    "    y_axis_type=\"mercator\")\n",
    "fig.add_tile(get_provider('CARTODBPOSITRON_RETINA'))\n",
    "fig.circle(\n",
    "    x='web_mercator_E',\n",
    "    y='web_mercator_N',\n",
    "    source=ColumnDataSource(metadata),\n",
    "    line_color='grey',\n",
    "    fill_color='yellow')\n",
    "\n",
    "show(fig)\n",
    "\n",
    "# # Set up layouts and add to document\n",
    "# inputs = column(slider)\n",
    "\n",
    "# show(row(inputs, fig, width=800))"
   ]
  }
 ],
 "metadata": {
  "kernelspec": {
   "display_name": "Python 3",
   "language": "python",
   "name": "python3"
  },
  "language_info": {
   "codemirror_mode": {
    "name": "ipython",
    "version": 3
   },
   "file_extension": ".py",
   "mimetype": "text/x-python",
   "name": "python",
   "nbconvert_exporter": "python",
   "pygments_lexer": "ipython3",
   "version": "3.6.7"
  }
 },
 "nbformat": 4,
 "nbformat_minor": 2
}
